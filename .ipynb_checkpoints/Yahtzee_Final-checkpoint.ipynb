{
 "cells": [
  {
   "cell_type": "markdown",
   "id": "4a49bc3a-176a-46b6-bcdb-0cbbc0f73042",
   "metadata": {},
   "source": [
    "# Yahtzee Game Final"
   ]
  },
  {
   "cell_type": "code",
   "execution_count": 1,
   "id": "b35cd998-9064-4849-93e2-3143c98e147b",
   "metadata": {},
   "outputs": [],
   "source": [
    "import random\n",
    "import pandas as pd\n",
    "from IPython.display import clear_output"
   ]
  },
  {
   "cell_type": "code",
   "execution_count": 2,
   "id": "944bf85c-2e3f-45bd-b59f-c87fac211138",
   "metadata": {},
   "outputs": [],
   "source": [
    "def display_dice(ds):\n",
    "    \"\"\"\n",
    "    Creates a visual of the rolled dice\n",
    "    \"\"\"\n",
    "    df = {1:{\"a\":\" \", \"b\":\" \", \"c\":\" \", \"d\":\"●\", \"e\":\" \", \"f\":\" \", \"g\":\" \"},\n",
    "          2:{\"a\":\"●\", \"b\":\" \", \"c\":\" \", \"d\":\" \", \"e\":\" \", \"f\":\" \", \"g\":\"●\"},\n",
    "          3:{\"a\":\"●\", \"b\":\" \", \"c\":\" \", \"d\":\"●\", \"e\":\" \", \"f\":\" \", \"g\":\"●\"},\n",
    "          4:{\"a\":\"●\", \"b\":\"●\", \"c\":\" \", \"d\":\" \", \"e\":\" \", \"f\":\"●\", \"g\":\"●\"},\n",
    "          5:{\"a\":\"●\", \"b\":\"●\", \"c\":\" \", \"d\":\"●\", \"e\":\" \", \"f\":\"●\", \"g\":\"●\"},\n",
    "          6:{\"a\":\"●\", \"b\":\"●\", \"c\":\"●\", \"d\":\" \", \"e\":\"●\", \"f\":\"●\", \"g\":\"●\"}}\n",
    "    dice = f\"   Die 1    Die 2    Die 3    Die 4    Die 5\\\n",
    "    \\n ┌───────┐ ┌───────┐ ┌───────┐ ┌───────┐ ┌───────┐\\\n",
    "    \\n │ {df[ds[0]]['a']}   {df[ds[0]]['b']} │ │ {df[ds[1]]['a']}   {df[ds[1]]['b']} │ │ {df[ds[2]]['a']}   {df[ds[2]]['b']} │ │ {df[ds[3]]['a']}   {df[ds[3]]['b']} │ │ {df[ds[4]]['a']}   {df[ds[4]]['b']} │\\\n",
    "    \\n │ {df[ds[0]]['c']} {df[ds[0]]['d']} {df[ds[0]]['e']} │ │ {df[ds[1]]['c']} {df[ds[1]]['d']} {df[ds[1]]['e']} │ │ {df[ds[2]]['c']} {df[ds[2]]['d']} {df[ds[2]]['e']} │ │ {df[ds[3]]['c']} {df[ds[3]]['d']} {df[ds[3]]['e']} │ │ {df[ds[4]]['c']} {df[ds[4]]['d']} {df[ds[4]]['e']} │\\\n",
    "    \\n │ {df[ds[0]]['f']}   {df[ds[0]]['g']} │ │ {df[ds[1]]['f']}   {df[ds[1]]['g']} │ │ {df[ds[2]]['f']}   {df[ds[2]]['g']} │ │ {df[ds[3]]['f']}   {df[ds[3]]['g']} │ │ {df[ds[4]]['f']}   {df[ds[4]]['g']} │\\\n",
    "    \\n └───────┘ └───────┘ └───────┘ └───────┘ └───────┘ \"\n",
    "    print(dice)"
   ]
  },
  {
   "cell_type": "code",
   "execution_count": 3,
   "id": "78704b2a-6f6c-4322-bf54-5f483e873da6",
   "metadata": {},
   "outputs": [],
   "source": [
    "def roll_dice():\n",
    "    \"\"\"\n",
    "    Simulates one rolled dice output returns an integer\n",
    "    \"\"\"\n",
    "    return random.randint(1,6)\n",
    "    "
   ]
  },
  {
   "cell_type": "code",
   "execution_count": 4,
   "id": "3cc504f8-f58f-410e-913d-51aef9babc47",
   "metadata": {},
   "outputs": [],
   "source": [
    "def roll_dice_all():\n",
    "    \"\"\"\n",
    "    returns list of all values of 5 dice rolled\n",
    "    \"\"\"\n",
    "    dice_list = []\n",
    "    for i in range(5):\n",
    "        dice_list.append(roll_dice())\n",
    "    return dice_list"
   ]
  },
  {
   "cell_type": "code",
   "execution_count": 5,
   "id": "e1d542d2-cb05-40de-88b3-7faaeaf843d6",
   "metadata": {},
   "outputs": [],
   "source": [
    "def select_dice_to_keep():\n",
    "    \"\"\"\n",
    "    Select the dice to keep and returns indexes of actual dice \n",
    "    returns a lists of dice kept\n",
    "    \"\"\"\n",
    "    keep_list = []\n",
    "    how_many_to_dice_to_keep = 6 \n",
    "    while how_many_to_dice_to_keep not in [0,1,2,3,4,5]:\n",
    "        try:\n",
    "            how_many_to_dice_to_keep = int(input('\\nHow many dice do you want to keep?'))\n",
    "        except:\n",
    "            print('You need to enter an intger between 0 and 5')\n",
    "    if how_many_to_dice_to_keep < 5:\n",
    "        while len(set(keep_list)) != how_many_to_dice_to_keep:\n",
    "            try:\n",
    "                keep = int(input('Select which a dice to keep'))\n",
    "                if keep in range(1,6):  \n",
    "                    keep_list.append(keep)\n",
    "                else:\n",
    "                    print('Enter a correct dice number to pick')\n",
    "            except:\n",
    "                print('You need to enter an intger between 1 and 5')\n",
    "        return list(set(keep_list))   \n",
    "    else:\n",
    "        return [1,2,3,4,5]"
   ]
  },
  {
   "cell_type": "code",
   "execution_count": 6,
   "id": "f5bbce8a-8c4f-48db-8920-f0f27facf5f5",
   "metadata": {},
   "outputs": [],
   "source": [
    "def reroll_dice(indices_of_dice_kept, previous_roll):\n",
    "    \"\"\"\n",
    "    takes two arguments as lists\n",
    "    the first is the list of indices to keep from preivous dice roll\n",
    "    the second is the actual value of the dice from the previous roll\n",
    "    returns a list of values for the dice that were rolled\n",
    "    \"\"\"\n",
    "    output_dice = previous_roll\n",
    "    for num in [num for num in range(1,6) if num not in indices_of_dice_kept]:\n",
    "        output_dice[num-1] = roll_dice()\n",
    "    return(output_dice)"
   ]
  },
  {
   "cell_type": "code",
   "execution_count": 7,
   "id": "3f3cd447-48a8-4718-a25d-1806905a3173",
   "metadata": {},
   "outputs": [],
   "source": [
    "def yahtzee_turn():\n",
    "    \"\"\"\n",
    "    Completes 3 rolls allows for selection of dice and outputs a list of final 5 dice values\n",
    "    \"\"\"\n",
    "    count = 1\n",
    "    dice_set = roll_dice_all()\n",
    "    display_dice(dice_set)\n",
    "    while count < 3:\n",
    "        dice_to_keep = select_dice_to_keep()\n",
    "        dice_set = reroll_dice(dice_to_keep, dice_set)\n",
    "        display_dice(dice_set)\n",
    "        count += 1\n",
    "   # clear_output(wait=True)\n",
    "    return dice_set"
   ]
  },
  {
   "cell_type": "code",
   "execution_count": 8,
   "id": "0e8199d3-bbc1-4aca-9335-8a723ec001a2",
   "metadata": {},
   "outputs": [],
   "source": [
    "def score_card_options(list_to_score): \n",
    "    \"\"\"\n",
    "    Takes a list of dice values from the third roll in yahtzee_turn\n",
    "    holds the functions to get score for roll\n",
    "    Returns a dictionary that does not update\n",
    "    \"\"\"\n",
    "    scoring_dict = {\n",
    "        'Aces': 1*list_to_score.count(1),\n",
    "        'Twos': 2*list_to_score.count(2),\n",
    "        'Threes':3*list_to_score.count(3),\n",
    "        'Fours':4*list_to_score.count(4),\n",
    "        'Fives':5*list_to_score.count(5),\n",
    "        'Sixes':6*list_to_score.count(6),\n",
    "        'Small straight': small_straight_score_card_options(list_to_score),\n",
    "        'Large straight': large_straight_score_card_options(list_to_score),\n",
    "        'Three kind': three_of_a_kind_score_card_options(list_to_score),\n",
    "        'Four kind': four_of_a_kind_score_card_options(list_to_score),\n",
    "        'Full house': full_house__score_card_options(list_to_score),\n",
    "        'Chance': sum(list_to_score),\n",
    "        'Yahtzee': yahtzee_score_card_options(list_to_score),\n",
    "                }\n",
    "    return(scoring_dict)\n"
   ]
  },
  {
   "cell_type": "code",
   "execution_count": 9,
   "id": "3e7be179-00d8-4626-912d-07a8b52f87ff",
   "metadata": {},
   "outputs": [],
   "source": [
    "def choose_scoring_item(scorecard,player):\n",
    "    \"\"\"\n",
    "    Arguments are a dataframe and player (column)\n",
    "    returns player selection for where what they want to fill in on their score card\n",
    "    \"\"\"\n",
    "    word = ''\n",
    "    col = player\n",
    "    while word not in ['Aces', 'Twos', 'Threes', 'Fours', 'Fives', 'Sixes', 'Three kind', 'Four kind', 'Full house', 'Small straight', 'Large straight', 'Yahtzee', 'Chance'] or scorecard.loc[word,player] != None:\n",
    "        word = input('Choose which score location you want: ').capitalize()\n",
    "    return word"
   ]
  },
  {
   "cell_type": "code",
   "execution_count": 10,
   "id": "9d745402-3dbd-485e-842e-88ba84e380d2",
   "metadata": {},
   "outputs": [],
   "source": [
    "def bonus_score_card_options(sd, player):\n",
    "    \"\"\"\n",
    "    Arguments are a dataframe and player (column)\n",
    "    Runs throughout the game and adds a bonus score depeneding on dataframe values\n",
    "    returns a spefici value of 35 or 0\n",
    "    \"\"\"\n",
    "    sumof1to6 = sum([num for num in [sd.loc['Aces',player],sd.loc['Twos',player],sd.loc['Threes',player],sd.loc['Fours',player],sd.loc['Fives',player],sd.loc['Sixes',player]] if num != None])\n",
    "    if sumof1to6 >= 63:\n",
    "        return 35\n",
    "    else:\n",
    "        return 0"
   ]
  },
  {
   "cell_type": "code",
   "execution_count": 11,
   "id": "4923feea-df4b-4d8b-bc7d-698f6a6d5036",
   "metadata": {
    "tags": []
   },
   "outputs": [],
   "source": [
    "# Scoring rules for possible combinations\n",
    "\"\"\"\n",
    "List of Functions\n",
    "__________________\n",
    "These functions are for allowing the user to input a selection for scoring based off their word choice\n",
    "\"\"\"\n",
    "\n",
    "def yahtzee_score_card_options(scoring_please):\n",
    "    for i in scoring_please:\n",
    "        if scoring_please.count(i) == 5:\n",
    "            return 50\n",
    "        else:\n",
    "            return 0\n",
    "        \n",
    "def small_straight_score_card_options(scoring_please):\n",
    "    if ((1 in scoring_please) and (2 in scoring_please) and (3 in scoring_please) and (4 in scoring_please)) or \\\n",
    "    ((2 in scoring_please) and (3 in scoring_please) and (4 in scoring_please) and (5 in scoring_please)) or \\\n",
    "    ((3 in scoring_please) and (4 in scoring_please) and (5 in scoring_please) and (6 in scoring_please)):\n",
    "        return 30\n",
    "    else:\n",
    "        return 0\n",
    "    \n",
    "def large_straight_score_card_options(scoring_please):\n",
    "    if ((1 in scoring_please) and (2 in scoring_please) and (3 in scoring_please) and (4 in scoring_please) and (5 in scoring_please)) or \\\n",
    "    ((2 in scoring_please) and (3 in scoring_please) and (4 in scoring_please) and (5 in scoring_please) and (6 in scoring_please)):\n",
    "        return 40 \n",
    "    else:\n",
    "        return 0\n",
    "    \n",
    "def three_of_a_kind_score_card_options(scoring_please):\n",
    "    for num in scoring_please:\n",
    "        if scoring_please.count(num) == 3:\n",
    "            return 3*num\n",
    "        elif scoring_please.count(num) == 4:\n",
    "            return 3*num\n",
    "        elif scoring_please.count(num) == 5:\n",
    "            return 3*num\n",
    "        else:\n",
    "            return 0\n",
    "        \n",
    "def four_of_a_kind_score_card_options(scoring_please):\n",
    "    for num in scoring_please:\n",
    "        if scoring_please.count(num) == 4:\n",
    "            return 4*num\n",
    "        elif scoring_please.count(num) == 5:\n",
    "            return 4*num\n",
    "        else:\n",
    "            return 0\n",
    "        \n",
    "def full_house__score_card_options(scoring_please):\n",
    "    blank = []\n",
    "    if len(list(set(scoring_please))) == 2:\n",
    "        for num in list(set(scoring_please)):\n",
    "            blank.append(scoring_please.count(num))\n",
    "    if 3 in blank and 2 in blank:\n",
    "        return 25\n",
    "    else:\n",
    "        return 0\n",
    "    "
   ]
  },
  {
   "cell_type": "code",
   "execution_count": 12,
   "id": "90c6f805-a1a6-4a46-88d9-2f9aa1f4954d",
   "metadata": {},
   "outputs": [],
   "source": [
    "def update_score_card(turn_options, player_selected_option, sd,player):\n",
    "    \"\"\"\n",
    "    arguments are the scoring dictionary, selected user word choice for scoring, dataframe, and player (column)\n",
    "    updates the game dataframe based on final dice set and user selected valuereturns nothing\n",
    "    \"\"\"\n",
    "    sd.loc[player_selected_option, player] = turn_options[player_selected_option]\n",
    "    sd.loc['BONUS',player] = bonus_score_card_options(sd,player)\n",
    "    sd.loc['TOTAL',player] = sd[player][:-1].sum()"
   ]
  },
  {
   "cell_type": "code",
   "execution_count": 13,
   "id": "2c074c93-a221-46ca-9a34-e71ece6b9782",
   "metadata": {},
   "outputs": [],
   "source": [
    "def how_many_players_return_list_of_players(df):\n",
    "    \"\"\"\n",
    "    Arguments are a dataframe\n",
    "    returns a list of players created from the dataframe \n",
    "    \"\"\"\n",
    "    amount_of_players = ''\n",
    "    while not amount_of_players.isdigit() or not (int(amount_of_players) < 10 and int(amount_of_players) != 0):\n",
    "        try:\n",
    "            amount_of_players = input('How many players are there?')\n",
    "            clear_output()\n",
    "        except ValueError:\n",
    "            print('Enter a number for amount of players:')\n",
    "            clear_output()\n",
    "    for i in range(1,int(amount_of_players)+1):\n",
    "        name = input(f'What is the name of Player {i}:').capitalize()\n",
    "        df[name] = None\n",
    "    return list(df.columns)"
   ]
  },
  {
   "cell_type": "code",
   "execution_count": 14,
   "id": "55adf913-604f-4419-b6f0-8428270ad36f",
   "metadata": {},
   "outputs": [],
   "source": [
    "def winner(df):\n",
    "    \"\"\"\n",
    "    Arguments are a dataframe\n",
    "    prints a list of winners/winner depending on the amount of players\n",
    "    \"\"\" \n",
    "    winner_lst = []\n",
    "    for i in df.columns:\n",
    "        if df.loc['TOTAL',i] == df.loc['TOTAL'].max():\n",
    "            winner_lst.append(i)\n",
    "    if len(winner_lst) == 1:\n",
    "        print(f\"\\nThe winner is {''.join(winner_lst)}!\")\n",
    "    if len(winner_lst) > 1:\n",
    "        if len(winner_lst) == 2:\n",
    "            print(f\"\\nThe winners are {', and '.join(winner_lst)}!\")\n",
    "        if len(winner_lst) > 2:\n",
    "            print(f\"\\nThe winners are {', '.join(winner_lst)}!\")"
   ]
  },
  {
   "cell_type": "code",
   "execution_count": 16,
   "id": "cdfa3f66-613d-49de-8ca1-6d6b7ef48f65",
   "metadata": {
    "tags": []
   },
   "outputs": [
    {
     "name": "stdout",
     "output_type": "stream",
     "text": [
      "You decided not to play :-(\n"
     ]
    }
   ],
   "source": [
    "# Game Logic dataframe\n",
    "\n",
    "player_sheet_empty = pd.DataFrame({'YAHTZEE': ['Aces', 'Twos', 'Threes', 'Fours', 'Fives', 'Sixes',\n",
    "                                               'BONUS', 'Three kind', 'Four kind', 'Full house', \n",
    "                                               'Small straight', 'Large straight', 'Yahtzee','Chance',\n",
    "                                               'TOTAL']}).set_index('YAHTZEE')\n",
    "while True:\n",
    "# Starts the game or not\n",
    "    player_turn = ' ' \n",
    "    list_of_players = []\n",
    "    counter = 0\n",
    "    game_on = input('Are you ready to play?  Y/N').lower()\n",
    "    clear_output()\n",
    "    if game_on.lower()[0] == \"y\":\n",
    "        game_on = True\n",
    "        list_of_players = how_many_players_return_list_of_players(player_sheet_empty)\n",
    "        player_turn = list_of_players[counter]\n",
    "    else:\n",
    "        game_on = False\n",
    "        print('You decided not to play :-(')\n",
    "        break\n",
    "    clear_output()    \n",
    "    while player_sheet_empty.isnull().sum().sum() and game_on:                                                                      \n",
    "# Actual running of the game, rolling the dice, updating the dataframe        \n",
    "        print(f\"It's {player_turn}'s turn!\\n\")\n",
    "        print(player_sheet_empty)\n",
    "        \n",
    "        turn_set = yahtzee_turn()\n",
    "\n",
    "        temp_scoring_dict = score_card_options(turn_set)\n",
    "\n",
    "        choice = choose_scoring_item(player_sheet_empty, player_turn)\n",
    "\n",
    "        update_score_card(temp_scoring_dict , choice , player_sheet_empty, player_turn)\n",
    "    \n",
    "        print(player_sheet_empty)\n",
    "        \n",
    "        counter = (counter + 1) % (len(list_of_players))\n",
    "        player_turn = list_of_players[counter]\n",
    "    \n",
    "        continue_game = input('Do you want to continue playing?  Y/N').lower().startswith('y')\n",
    "        clear_output()\n",
    "        if continue_game == False:\n",
    "            break\n",
    "        \n",
    "    print('You finished the game!\\n\\n')\n",
    "    print(player_sheet_empty)\n",
    "    winner(player_sheet_empty)\n",
    "    break"
   ]
  },
  {
   "cell_type": "code",
   "execution_count": null,
   "id": "8ada5521-0c81-4e45-85c6-4350b1f6c0b5",
   "metadata": {},
   "outputs": [],
   "source": []
  },
  {
   "cell_type": "code",
   "execution_count": null,
   "id": "c262d799",
   "metadata": {},
   "outputs": [],
   "source": []
  }
 ],
 "metadata": {
  "kernelspec": {
   "display_name": "Python 3 (ipykernel)",
   "language": "python",
   "name": "python3"
  },
  "language_info": {
   "codemirror_mode": {
    "name": "ipython",
    "version": 3
   },
   "file_extension": ".py",
   "mimetype": "text/x-python",
   "name": "python",
   "nbconvert_exporter": "python",
   "pygments_lexer": "ipython3",
   "version": "3.9.13"
  },
  "varInspector": {
   "cols": {
    "lenName": 16,
    "lenType": 16,
    "lenVar": 40
   },
   "kernels_config": {
    "python": {
     "delete_cmd_postfix": "",
     "delete_cmd_prefix": "del ",
     "library": "var_list.py",
     "varRefreshCmd": "print(var_dic_list())"
    },
    "r": {
     "delete_cmd_postfix": ") ",
     "delete_cmd_prefix": "rm(",
     "library": "var_list.r",
     "varRefreshCmd": "cat(var_dic_list()) "
    }
   },
   "types_to_exclude": [
    "module",
    "function",
    "builtin_function_or_method",
    "instance",
    "_Feature"
   ],
   "window_display": false
  }
 },
 "nbformat": 4,
 "nbformat_minor": 5
}
